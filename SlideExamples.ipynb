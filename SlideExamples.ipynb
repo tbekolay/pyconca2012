{
 "metadata": {
  "name": "SlideExamples"
 }, 
 "nbformat": 2, 
 "worksheets": [
  {
   "cells": [
    {
     "cell_type": "code", 
     "collapsed": false, 
     "input": [
      "# Slide 9", 
      "mp = 0.115", 
      "vp = 35.0", 
      "mo = 0.265", 
      "vo = 0.0", 
      "v = (mp * vp + mo * vo) / (mp + mo)", 
      "print v"
     ], 
     "language": "python", 
     "outputs": [
      {
       "output_type": "stream", 
       "stream": "stdout", 
       "text": [
        "10.5921052632"
       ]
      }
     ], 
     "prompt_number": 1
    }, 
    {
     "cell_type": "code", 
     "collapsed": false, 
     "input": [
      "# Slide 10", 
      "mp = 0.115", 
      "vp = 114.13", 
      "mo = 0.265", 
      "vo = 0.0", 
      "v = (mp * vp + mo * vo) / (mp + mo)", 
      "print v"
     ], 
     "language": "python", 
     "outputs": [
      {
       "output_type": "stream", 
       "stream": "stdout", 
       "text": [
        "34.5393421053"
       ]
      }
     ], 
     "prompt_number": 2
    }, 
    {
     "cell_type": "code", 
     "collapsed": false, 
     "input": [
      "# Slide 11", 
      "mp = 0.115", 
      "vp = 114.13 * 0.44704  # mph to m/s", 
      "mo = 0.265", 
      "vo = 0.0", 
      "v = (mp * vp + mo * vo) / (mp + mo)", 
      "print v"
     ], 
     "language": "python", 
     "outputs": [
      {
       "output_type": "stream", 
       "stream": "stdout", 
       "text": [
        "15.4404674947"
       ]
      }
     ], 
     "prompt_number": 3
    }, 
    {
     "cell_type": "code", 
     "collapsed": false, 
     "input": [
      "# Slide 12", 
      "mp = 0.115  # kg", 
      "vp = 114.13 * 0.44704  # mph to m/s", 
      "mo = 0.265  # kg", 
      "vo = 0.0  # m/s", 
      "v = (mp * vp + mo * vo) / (mp + mo)", 
      "print v"
     ], 
     "language": "python", 
     "outputs": [
      {
       "output_type": "stream", 
       "stream": "stdout", 
       "text": [
        "15.4404674947"
       ]
      }
     ], 
     "prompt_number": 6
    }, 
    {
     "cell_type": "code", 
     "collapsed": false, 
     "input": [
      "# Slide 15", 
      "import quantities as pq", 
      "mp = 0.115 * pq.kg", 
      "vp = 35.0 * (pq.m / pq.s)", 
      "mo = 0.265 * pq.kg", 
      "vo = 0.0 * (pq.m / pq.s)", 
      "v = (mp * vp + mo * vo) / (mp + mo)", 
      "print v"
     ], 
     "language": "python", 
     "outputs": [
      {
       "output_type": "stream", 
       "stream": "stdout", 
       "text": [
        "10.5921052632 m/s"
       ]
      }
     ], 
     "prompt_number": 7
    }, 
    {
     "cell_type": "code", 
     "collapsed": false, 
     "input": [
      "# Slide 16", 
      "import quantities as pq", 
      "mp = 0.115 * pq.kg", 
      "vp = 114.13 * (pq.mi / pq.h)", 
      "mo = 0.265 * pq.kg", 
      "vo = 0.0 * (pq.m / pq.s)", 
      "v = (mp * vp + mo * vo) / (mp + mo)", 
      "print v"
     ], 
     "language": "python", 
     "outputs": [
      {
       "output_type": "stream", 
       "stream": "stdout", 
       "text": [
        "34.5393421053 mi/h"
       ]
      }
     ], 
     "prompt_number": 8
    }, 
    {
     "cell_type": "code", 
     "collapsed": false, 
     "input": [
      "# Slide 17", 
      "import quantities as pq", 
      "mp = 0.115 * pq.kg", 
      "vp = 114.13 * (pq.mi / pq.h)", 
      "mo = 0.265 * pq.kg", 
      "vo = 0.0 * (pq.m / pq.s)", 
      "v = (mp * vp + mo * vo) / (mp + mo)", 
      "print v.rescale(pq.km / pq.h)"
     ], 
     "language": "python", 
     "outputs": [
      {
       "output_type": "stream", 
       "stream": "stdout", 
       "text": [
        "55.5856829811 km/h"
       ]
      }
     ], 
     "prompt_number": 9
    }, 
    {
     "cell_type": "code", 
     "collapsed": false, 
     "input": [
      "# Slide 18", 
      "import quantities as pq", 
      "mp = 6.0 * pq.ounce", 
      "vp = 114.13 * (pq.mi / pq.h)", 
      "mo = 0.265 * pq.kg", 
      "vo = 0.0 * (pq.m / pq.s)", 
      "v = (mp * vp + mo * vo) / (mp + mo)", 
      "print v.rescale(pq.km / pq.h)"
     ], 
     "language": "python", 
     "outputs": [
      {
       "output_type": "stream", 
       "stream": "stdout", 
       "text": [
        "71.8057931081 km/h"
       ]
      }
     ], 
     "prompt_number": 10
    }, 
    {
     "cell_type": "code", 
     "collapsed": false, 
     "input": [
      "# Slide 20", 
      "import quantities as pq", 
      "mp = 6.0 * pq.ounce", 
      "vp = 114.13 * (pq.mi / pq.h)", 
      "mo = 0.265 * pq.kg", 
      "vo = 0.0", 
      "v = (mp * vp + mo * vo) / (mp + mo)"
     ], 
     "language": "python", 
     "outputs": [
      {
       "ename": "ValueError", 
       "evalue": "Unable to convert between units of \"kg\" and \"oz*mi/h\"", 
       "output_type": "pyerr", 
       "traceback": [
        "\u001b[0;31m---------------------------------------------------------------------------\u001b[0m\n\u001b[0;31mValueError\u001b[0m                                Traceback (most recent call last)", 
        "\u001b[0;32m/Users/Trevor/Programming/git/pyconca2012/<ipython-input-11-4df6aa16c07c>\u001b[0m in \u001b[0;36m<module>\u001b[0;34m()\u001b[0m\n\u001b[1;32m      5\u001b[0m \u001b[0mmo\u001b[0m \u001b[0;34m=\u001b[0m \u001b[0;36m0.265\u001b[0m \u001b[0;34m*\u001b[0m \u001b[0mpq\u001b[0m\u001b[0;34m.\u001b[0m\u001b[0mkg\u001b[0m\u001b[0;34m\u001b[0m\u001b[0m\n\u001b[1;32m      6\u001b[0m \u001b[0mvo\u001b[0m \u001b[0;34m=\u001b[0m \u001b[0;36m0.0\u001b[0m\u001b[0;34m\u001b[0m\u001b[0m\n\u001b[0;32m----> 7\u001b[0;31m \u001b[0mv\u001b[0m \u001b[0;34m=\u001b[0m \u001b[0;34m(\u001b[0m\u001b[0mmp\u001b[0m \u001b[0;34m*\u001b[0m \u001b[0mvp\u001b[0m \u001b[0;34m+\u001b[0m \u001b[0mmo\u001b[0m \u001b[0;34m*\u001b[0m \u001b[0mvo\u001b[0m\u001b[0;34m)\u001b[0m \u001b[0;34m/\u001b[0m \u001b[0;34m(\u001b[0m\u001b[0mmp\u001b[0m \u001b[0;34m+\u001b[0m \u001b[0mmo\u001b[0m\u001b[0;34m)\u001b[0m\u001b[0;34m\u001b[0m\u001b[0m\n\u001b[0m", 
        "\u001b[0;32m/Library/Frameworks/EPD64.framework/Versions/7.2/lib/python2.7/site-packages/quantities/quantity.pyc\u001b[0m in \u001b[0;36mg\u001b[0;34m(self, other, *args)\u001b[0m\n\u001b[1;32m     61\u001b[0m             \u001b[0mother\u001b[0m \u001b[0;34m=\u001b[0m \u001b[0mother\u001b[0m\u001b[0;34m.\u001b[0m\u001b[0mview\u001b[0m\u001b[0;34m(\u001b[0m\u001b[0mtype\u001b[0m\u001b[0;34m=\u001b[0m\u001b[0mQuantity\u001b[0m\u001b[0;34m)\u001b[0m\u001b[0;34m\u001b[0m\u001b[0m\n\u001b[1;32m     62\u001b[0m         \u001b[0;32mif\u001b[0m \u001b[0mother\u001b[0m\u001b[0;34m.\u001b[0m\u001b[0m_dimensionality\u001b[0m \u001b[0;34m!=\u001b[0m \u001b[0mself\u001b[0m\u001b[0;34m.\u001b[0m\u001b[0m_dimensionality\u001b[0m\u001b[0;34m:\u001b[0m\u001b[0;34m\u001b[0m\u001b[0m\n\u001b[0;32m---> 63\u001b[0;31m             \u001b[0mother\u001b[0m \u001b[0;34m=\u001b[0m \u001b[0mother\u001b[0m\u001b[0;34m.\u001b[0m\u001b[0mrescale\u001b[0m\u001b[0;34m(\u001b[0m\u001b[0mself\u001b[0m\u001b[0;34m.\u001b[0m\u001b[0munits\u001b[0m\u001b[0;34m)\u001b[0m\u001b[0;34m\u001b[0m\u001b[0m\n\u001b[0m\u001b[1;32m     64\u001b[0m         \u001b[0;32mreturn\u001b[0m \u001b[0mf\u001b[0m\u001b[0;34m(\u001b[0m\u001b[0mself\u001b[0m\u001b[0;34m,\u001b[0m \u001b[0mother\u001b[0m\u001b[0;34m,\u001b[0m \u001b[0;34m*\u001b[0m\u001b[0margs\u001b[0m\u001b[0;34m)\u001b[0m\u001b[0;34m\u001b[0m\u001b[0m\n\u001b[1;32m     65\u001b[0m     \u001b[0;32mreturn\u001b[0m \u001b[0mg\u001b[0m\u001b[0;34m\u001b[0m\u001b[0m\n", 
        "\u001b[0;32m/Library/Frameworks/EPD64.framework/Versions/7.2/lib/python2.7/site-packages/quantities/quantity.pyc\u001b[0m in \u001b[0;36mrescale\u001b[0;34m(self, units)\u001b[0m\n\u001b[1;32m    194\u001b[0m             raise ValueError(\n\u001b[1;32m    195\u001b[0m                 \u001b[0;34m'Unable to convert between units of \"%s\" and \"%s\"'\u001b[0m\u001b[0;34m\u001b[0m\u001b[0m\n\u001b[0;32m--> 196\u001b[0;31m                 \u001b[0;34m%\u001b[0m\u001b[0;34m(\u001b[0m\u001b[0mfrom_u\u001b[0m\u001b[0;34m.\u001b[0m\u001b[0m_dimensionality\u001b[0m\u001b[0;34m,\u001b[0m \u001b[0mto_u\u001b[0m\u001b[0;34m.\u001b[0m\u001b[0m_dimensionality\u001b[0m\u001b[0;34m)\u001b[0m\u001b[0;34m\u001b[0m\u001b[0m\n\u001b[0m\u001b[1;32m    197\u001b[0m             )\n\u001b[1;32m    198\u001b[0m         \u001b[0;32mreturn\u001b[0m \u001b[0mQuantity\u001b[0m\u001b[0;34m(\u001b[0m\u001b[0mcf\u001b[0m\u001b[0;34m*\u001b[0m\u001b[0mself\u001b[0m\u001b[0;34m.\u001b[0m\u001b[0mmagnitude\u001b[0m\u001b[0;34m,\u001b[0m \u001b[0mto_u\u001b[0m\u001b[0;34m)\u001b[0m\u001b[0;34m\u001b[0m\u001b[0m\n", 
        "\u001b[0;31mValueError\u001b[0m: Unable to convert between units of \"kg\" and \"oz*mi/h\""
       ]
      }
     ], 
     "prompt_number": 11
    }, 
    {
     "cell_type": "code", 
     "collapsed": false, 
     "input": [
      "# Slides 24-25", 
      "import quantities as pq", 
      "bags = pq.UnitQuantity('milk bags', pq.L * (4. / 3.))", 
      "person = pq.UnitQuantity('person', pq.dimensionless * 1)", 
      "need = 200 * (pq.mL / person)", 
      "need *= 250 * person", 
      "print need", 
      "print need.rescale(pq.L)", 
      "print need.rescale(bags)", 
      "import numpy as np", 
      "print np.ceil(need.rescale(bags))"
     ], 
     "language": "python", 
     "outputs": [
      {
       "output_type": "stream", 
       "stream": "stdout", 
       "text": [
        "50000.0 mL", 
        "50.0 L", 
        "37.5 milk bags", 
        "38.0 milk bags"
       ]
      }
     ], 
     "prompt_number": 15
    }, 
    {
     "cell_type": "code", 
     "collapsed": false, 
     "input": [
      "# Slide 34", 
      "import numpy as np", 
      "import quantities as pq", 
      "", 
      "def load_spikes(filename):", 
      "    # Dummy implementation: just make a spike train", 
      "    spikes = np.random.uniform(0, 20 * pq.s, size=20 * pq.s * 10 * pq.Hz)", 
      "    spikes = np.append(spikes, np.random.normal(11.0 * pq.s, size=10 * pq.Hz * 5))", 
      "    return np.sort(spikes)", 
      "", 
      "def time_slice(spikes, tstart, tend):", 
      "    return spikes[np.logical_and(tstart <= spikes, spikes < tend)]", 
      "", 
      "def raster_plot(spikes):", 
      "    plt.scatter(spikes, np.zeros(spikes.shape), color='k', marker='|')", 
      "    plt.xlim(10.5 * pq.s, 13.0 * pq.s)", 
      "    plt.xlabel(\"Time in \" + spikes.dimensionality.string)", 
      "    plt.tight_layout()", 
      "", 
      "spikes = load_spikes('spikes.csv') * pq.s", 
      "event = 11 * pq.s", 
      "window = (-0.5, 2) * pq.s", 
      "perievent = time_slice(spikes, *(event + window))", 
      "raster_plot(perievent)"
     ], 
     "language": "python", 
     "outputs": [
      {
       "output_type": "display_data", 
       "png": "[encoded data removed]"
      }
     ], 
     "prompt_number": 28
    }, 
    {
     "cell_type": "code", 
     "collapsed": false, 
     "input": [
      "# Slide 35", 
      "import numpy as np", 
      "import quantities as pq", 
      "", 
      "def load_spikes(filename):", 
      "    # Dummy implementation: just make a spike train", 
      "    spikes = np.random.uniform(0, 20 * pq.s, size=20 * pq.s * 10 * pq.Hz)", 
      "    spikes = np.append(spikes, np.random.normal(11.0 * pq.s, size=10 * pq.Hz * 5))", 
      "    return np.sort(spikes)", 
      "", 
      "def time_slice(spikes, tstart, tend):", 
      "    return spikes[np.logical_and(tstart <= spikes, spikes < tend)]", 
      "", 
      "def raster_plot(spikes):", 
      "    plt.scatter(spikes, np.zeros(spikes.shape), color='k', marker='|')", 
      "    plt.xlim(10500 * pq.ms, 13000 * pq.ms)  # This also needs changing", 
      "    plt.xlabel(\"Time in \" + spikes.dimensionality.string)", 
      "    plt.tight_layout()", 
      "", 
      "spikes = (load_spikes('spikes.csv') * pq.s).rescale(pq.ms)", 
      "event = 11 * pq.s", 
      "window = (-0.5, 2) * pq.s", 
      "perievent = time_slice(spikes, *(event + window))", 
      "raster_plot(perievent)"
     ], 
     "language": "python", 
     "outputs": [
      {
       "output_type": "display_data", 
       "png": "[encoded data removed]"
      }
     ], 
     "prompt_number": 42
    }, 
    {
     "cell_type": "code", 
     "collapsed": false, 
     "input": [
      "# Slide 36", 
      "import numpy as np", 
      "import quantities as pq", 
      "", 
      "def load_spikes(filename):", 
      "    # Dummy implementation: just make a spike train", 
      "    spikes = np.random.uniform(0, 20 * pq.s, size=20 * pq.s * 10 * pq.Hz)", 
      "    spikes = np.append(spikes, np.random.normal(11.0 * pq.s, size=10 * pq.Hz * 5))", 
      "    return np.sort(spikes)", 
      "", 
      "def bin_spikes(spikes, binsize, tstart, tend):", 
      "    binsize.units = tstart.units", 
      "    bins = np.arange(", 
      "      tstart, tend + binsize, binsize)", 
      "    return np.histogram(spikes, bins=bins)[0]", 
      "", 
      "def binned_plot(bins):", 
      "    plt.bar(range(len(bins)), bins)", 
      "    plt.xlabel(\"Time bin\")", 
      "    plt.xlim(0, bins.shape[0])", 
      "", 
      "spikes = load_spikes('spikes.csv') * pq.s", 
      "event = 11 * pq.s", 
      "window = (-0.5, 2) * pq.s", 
      "binned = bin_spikes(spikes, 20 * pq.ms, *(event + window))", 
      "binned_plot(binned)"
     ], 
     "language": "python", 
     "outputs": [
      {
       "output_type": "display_data", 
       "png": "[encoded data removed]"
      }
     ], 
     "prompt_number": 53
    }, 
    {
     "cell_type": "code", 
     "collapsed": true, 
     "input": [], 
     "language": "python", 
     "outputs": []
    }
   ]
  }
 ]
}